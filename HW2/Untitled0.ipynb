{
 "metadata": {
  "language": "Julia",
  "name": "",
  "signature": "sha256:020881a62a0b5e07033430db9a005fecc23dfa301e090589db471905226e985f"
 },
 "nbformat": 3,
 "nbformat_minor": 0,
 "worksheets": [
  {
   "cells": [
    {
     "cell_type": "code",
     "collapsed": false,
     "input": [
      "2+2"
     ],
     "language": "python",
     "metadata": {},
     "outputs": [
      {
       "metadata": {},
       "output_type": "pyout",
       "prompt_number": 1,
       "text": [
        "4"
       ]
      }
     ],
     "prompt_number": 1
    },
    {
     "cell_type": "code",
     "collapsed": false,
     "input": [
      "sin(3)"
     ],
     "language": "python",
     "metadata": {},
     "outputs": [
      {
       "metadata": {},
       "output_type": "pyout",
       "prompt_number": 2,
       "text": [
        "0.1411200080598672"
       ]
      }
     ],
     "prompt_number": 2
    },
    {
     "cell_type": "code",
     "collapsed": false,
     "input": [
      "X = rand(3,3)"
     ],
     "language": "python",
     "metadata": {},
     "outputs": [
      {
       "metadata": {},
       "output_type": "pyout",
       "prompt_number": 3,
       "text": [
        "3x3 Array{Float64,2}:\n",
        " 0.130276   0.765504  0.616532\n",
        " 0.47727    0.96897   0.929142\n",
        " 0.0390601  0.768201  0.866186"
       ]
      }
     ],
     "prompt_number": 3
    },
    {
     "cell_type": "code",
     "collapsed": false,
     "input": [
      "svd(X)"
     ],
     "language": "python",
     "metadata": {},
     "outputs": [
      {
       "metadata": {},
       "output_type": "pyout",
       "prompt_number": 5,
       "text": [
        "(\n",
        "3x3 Array{Float64,2}:\n",
        " -0.477419   0.172561  -0.861565\n",
        " -0.683568  -0.689028   0.240781\n",
        " -0.552093   0.703891   0.446912,\n",
        "\n",
        "[2.06345,0.289064,0.116712],\n",
        "3x3 Array{Float64,2}:\n",
        " -0.1987    -0.96476     0.172499\n",
        " -0.703647   0.0179153  -0.710324\n",
        " -0.682202   0.26252     0.68241 )"
       ]
      }
     ],
     "prompt_number": 5
    },
    {
     "cell_type": "code",
     "collapsed": false,
     "input": [],
     "language": "python",
     "metadata": {},
     "outputs": []
    }
   ],
   "metadata": {}
  }
 ]
}